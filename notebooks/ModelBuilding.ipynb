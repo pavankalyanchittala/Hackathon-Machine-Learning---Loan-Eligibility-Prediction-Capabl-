{
 "cells": [
  {
   "cell_type": "code",
   "execution_count": 20,
   "id": "cc9c29f7-6d91-40d7-bb15-c194693d4c8a",
   "metadata": {},
   "outputs": [
    {
     "name": "stdout",
     "output_type": "stream",
     "text": [
      "Accuracy: 0.7967479674796748\n",
      "Confusion Matrix:\n",
      "[[21 22]\n",
      " [ 3 77]]\n",
      "Classification Report:\n",
      "              precision    recall  f1-score   support\n",
      "\n",
      "           0       0.88      0.49      0.63        43\n",
      "           1       0.78      0.96      0.86        80\n",
      "\n",
      "    accuracy                           0.80       123\n",
      "   macro avg       0.83      0.73      0.74       123\n",
      "weighted avg       0.81      0.80      0.78       123\n",
      "\n"
     ]
    }
   ],
   "source": [
    "# ModelBuilding.ipynb\n",
    "\n",
    "import pandas as pd\n",
    "import numpy as np\n",
    "import sys\n",
    "sys.path.append('../src')  # Add the src directory to the system path\n",
    "\n",
    "from data_preprocessing import load_data, handle_missing_values\n",
    "from feature_engineering import add_total_income_feature\n",
    "from model_training import encode_categorical_variables, train_model\n",
    "from predictions import make_predictions, save_predictions\n",
    "from sklearn.preprocessing import StandardScaler, LabelEncoder\n",
    "\n",
    "# Load the preprocessed data\n",
    "train_data = pd.read_csv('../data/train_cleaned.csv')\n",
    "test_data = pd.read_csv('../data/test_cleaned.csv')\n",
    "\n",
    "# Combine train and test data for consistent encoding\n",
    "combined_data = pd.concat([train_data, test_data], axis=0, ignore_index=True)\n",
    "\n",
    "# Feature Engineering: Add Total Income feature\n",
    "combined_data = add_total_income_feature(combined_data)\n",
    "\n",
    "# Encode categorical variables using LabelEncoder\n",
    "label_encoders = {}\n",
    "for column in combined_data.select_dtypes(include=['object']):\n",
    "    label_encoders[column] = LabelEncoder()\n",
    "    combined_data[column] = label_encoders[column].fit_transform(combined_data[column])\n",
    "\n",
    "# Separate back into train and test data\n",
    "train_data = combined_data.iloc[:train_data.shape[0], :]\n",
    "test_data = combined_data.iloc[train_data.shape[0]:, :]\n",
    "\n",
    "# Split the data into features and target variable\n",
    "X = train_data.drop(columns=['Loan_Status'])\n",
    "y = train_data['Loan_Status']\n",
    "\n",
    "# Split the data into training and validation sets\n",
    "from sklearn.model_selection import train_test_split\n",
    "X_train, X_val, y_train, y_val = train_test_split(X, y, test_size=0.2, random_state=42)\n",
    "\n",
    "# Feature Scaling\n",
    "scaler = StandardScaler()\n",
    "X_train_scaled = scaler.fit_transform(X_train)\n",
    "X_val_scaled = scaler.transform(X_val)\n",
    "test_data_features = test_data.drop(columns=['Loan_Status'])  # Exclude target variable\n",
    "test_data_scaled = scaler.transform(test_data_features)\n",
    "\n",
    "# Model Building: Train the Random Forest Classifier\n",
    "model, accuracy, confusion, classification_rep = train_model(X_train_scaled, y_train, X_val_scaled, y_val)\n",
    "\n",
    "print(f'Accuracy: {accuracy}')\n",
    "print(f'Confusion Matrix:\\n{confusion}')\n",
    "print(f'Classification Report:\\n{classification_rep}')\n",
    "\n",
    "# Save the model\n",
    "import joblib\n",
    "joblib.dump(model, '../model/random_forest_model.pkl')\n",
    "\n",
    "# Make predictions on the test set\n",
    "test_predictions = make_predictions(model, test_data_scaled)\n",
    "\n",
    "# Prepare the submission file\n",
    "save_predictions(test_predictions, test_data_features, filename='../data/loan_predictions.csv')\n"
   ]
  },
  {
   "cell_type": "code",
   "execution_count": null,
   "id": "1c05f152-bf2c-436c-a463-44d7efcd08c8",
   "metadata": {},
   "outputs": [],
   "source": []
  }
 ],
 "metadata": {
  "kernelspec": {
   "display_name": "Python 3 (ipykernel)",
   "language": "python",
   "name": "python3"
  },
  "language_info": {
   "codemirror_mode": {
    "name": "ipython",
    "version": 3
   },
   "file_extension": ".py",
   "mimetype": "text/x-python",
   "name": "python",
   "nbconvert_exporter": "python",
   "pygments_lexer": "ipython3",
   "version": "3.11.7"
  }
 },
 "nbformat": 4,
 "nbformat_minor": 5
}
